{
  "nbformat": 4,
  "nbformat_minor": 0,
  "metadata": {
    "colab": {
      "name": "Tensor_Exercise2.ipynb",
      "provenance": [],
      "collapsed_sections": [],
      "authorship_tag": "ABX9TyPDyXaeUNDX07Yp0kNDfd+e",
      "include_colab_link": true
    },
    "kernelspec": {
      "name": "python3",
      "display_name": "Python 3"
    },
    "language_info": {
      "name": "python"
    },
    "accelerator": "GPU"
  },
  "cells": [
    {
      "cell_type": "markdown",
      "metadata": {
        "id": "view-in-github",
        "colab_type": "text"
      },
      "source": [
        "<a href=\"https://colab.research.google.com/github/Habir55/Deep-Learning-with-Python-/blob/main/Tensor_Exercise2.ipynb\" target=\"_parent\"><img src=\"https://colab.research.google.com/assets/colab-badge.svg\" alt=\"Open In Colab\"/></a>"
      ]
    },
    {
      "cell_type": "code",
      "execution_count": 1,
      "metadata": {
        "id": "H6y2QIpELxR5"
      },
      "outputs": [],
      "source": [
        "import torch"
      ]
    },
    {
      "cell_type": "code",
      "source": [
        "# Tensor can have different dimensions. Let us create one-dimensional array/tensor/vector. \n",
        "\n",
        "x = torch.empty(3)\n",
        "x"
      ],
      "metadata": {
        "colab": {
          "base_uri": "https://localhost:8080/"
        },
        "id": "52bI5oNqL4uw",
        "outputId": "43a778ba-1c1c-4bdf-af63-93ac72a03c66"
      },
      "execution_count": 2,
      "outputs": [
        {
          "output_type": "execute_result",
          "data": {
            "text/plain": [
              "tensor([6.3954e-35, 0.0000e+00, 3.3631e-44])"
            ]
          },
          "metadata": {},
          "execution_count": 2
        }
      ]
    },
    {
      "cell_type": "code",
      "source": [
        "# Two-dimensional tensor: \n",
        "y = torch.empty(2, 3)\n",
        "y"
      ],
      "metadata": {
        "colab": {
          "base_uri": "https://localhost:8080/"
        },
        "id": "tsGCGXIvRRQm",
        "outputId": "31741253-806e-4c3c-eef0-714251fdda7b"
      },
      "execution_count": 3,
      "outputs": [
        {
          "output_type": "execute_result",
          "data": {
            "text/plain": [
              "tensor([[6.3954e-35, 0.0000e+00, 3.3631e-44],\n",
              "        [2.0000e+00, 0.0000e+00, 1.8750e+00]])"
            ]
          },
          "metadata": {},
          "execution_count": 3
        }
      ]
    },
    {
      "cell_type": "code",
      "source": [
        "# It can be also 3-D: \n",
        "z = torch.empty(2, 3 ,4)\n",
        "z"
      ],
      "metadata": {
        "colab": {
          "base_uri": "https://localhost:8080/"
        },
        "id": "uL7Py7uHRrw3",
        "outputId": "17557ea2-be06-4dfc-9210-ec870fccd16c"
      },
      "execution_count": 4,
      "outputs": [
        {
          "output_type": "execute_result",
          "data": {
            "text/plain": [
              "tensor([[[6.3037e-35, 0.0000e+00, 7.0065e-44, 7.0065e-44],\n",
              "         [6.3058e-44, 6.7262e-44, 7.4269e-44, 6.3058e-44],\n",
              "         [7.0065e-44, 7.8473e-44, 1.1771e-43, 6.8664e-44]],\n",
              "\n",
              "        [[6.8664e-44, 8.1275e-44, 7.2868e-44, 7.0065e-44],\n",
              "         [8.1275e-44, 7.1466e-44, 7.1466e-44, 6.4460e-44],\n",
              "         [7.1466e-44, 7.1466e-44, 7.9874e-44, 7.2868e-44]]])"
            ]
          },
          "metadata": {},
          "execution_count": 4
        }
      ]
    },
    {
      "cell_type": "code",
      "source": [
        "# It is also possible to creat a matrix including only ones or zeros. we can aslo specify the data types. \n",
        "\n",
        "x1 = torch.ones(2, 3, dtype=torch.float64)\n",
        "x2 = torch.zeros(4, 5)\n",
        "x1, x2"
      ],
      "metadata": {
        "colab": {
          "base_uri": "https://localhost:8080/"
        },
        "id": "d_c6hF7yR3KU",
        "outputId": "cb8db79f-a206-4933-d25d-29550f4bb497"
      },
      "execution_count": 5,
      "outputs": [
        {
          "output_type": "execute_result",
          "data": {
            "text/plain": [
              "(tensor([[1., 1., 1.],\n",
              "         [1., 1., 1.]], dtype=torch.float64), tensor([[0., 0., 0., 0., 0.],\n",
              "         [0., 0., 0., 0., 0.],\n",
              "         [0., 0., 0., 0., 0.],\n",
              "         [0., 0., 0., 0., 0.]]))"
            ]
          },
          "metadata": {},
          "execution_count": 5
        }
      ]
    },
    {
      "cell_type": "code",
      "source": [
        "x1.dtype"
      ],
      "metadata": {
        "colab": {
          "base_uri": "https://localhost:8080/"
        },
        "id": "EnqxIrNZSJCR",
        "outputId": "0aec9e31-67da-4979-91de-a719b4a97cc5"
      },
      "execution_count": 6,
      "outputs": [
        {
          "output_type": "execute_result",
          "data": {
            "text/plain": [
              "torch.float64"
            ]
          },
          "metadata": {},
          "execution_count": 6
        }
      ]
    },
    {
      "cell_type": "code",
      "source": [
        "x2.size()"
      ],
      "metadata": {
        "colab": {
          "base_uri": "https://localhost:8080/"
        },
        "id": "C74Xd3wQSNI4",
        "outputId": "f6b83958-ae06-40d6-8e0c-d9098c7f018e"
      },
      "execution_count": 7,
      "outputs": [
        {
          "output_type": "execute_result",
          "data": {
            "text/plain": [
              "torch.Size([4, 5])"
            ]
          },
          "metadata": {},
          "execution_count": 7
        }
      ]
    },
    {
      "cell_type": "code",
      "source": [
        "# Let us try, with list inside the tensor: \n",
        "x3 = torch.tensor([2.5, 0.1])\n",
        "x3"
      ],
      "metadata": {
        "colab": {
          "base_uri": "https://localhost:8080/"
        },
        "id": "zubqIOEzSS7S",
        "outputId": "afec5953-8a9f-4172-cbb9-deefe09bbdbd"
      },
      "execution_count": 8,
      "outputs": [
        {
          "output_type": "execute_result",
          "data": {
            "text/plain": [
              "tensor([2.5000, 0.1000])"
            ]
          },
          "metadata": {},
          "execution_count": 8
        }
      ]
    },
    {
      "cell_type": "code",
      "source": [
        "# let us try to add two tensors which have the same dimensions.\n",
        "a = torch.rand(2,2)\n",
        "b = torch.rand(2,2)\n",
        "a, b"
      ],
      "metadata": {
        "colab": {
          "base_uri": "https://localhost:8080/"
        },
        "id": "SBmVGRB3TIX-",
        "outputId": "9722e681-c42c-4c3c-a81c-275e1191b2aa"
      },
      "execution_count": 9,
      "outputs": [
        {
          "output_type": "execute_result",
          "data": {
            "text/plain": [
              "(tensor([[0.7173, 0.5111],\n",
              "         [0.4633, 0.0569]]), tensor([[0.9075, 0.8981],\n",
              "         [0.1953, 0.1522]]))"
            ]
          },
          "metadata": {},
          "execution_count": 9
        }
      ]
    },
    {
      "cell_type": "code",
      "source": [
        "c = a + b\n",
        "c"
      ],
      "metadata": {
        "colab": {
          "base_uri": "https://localhost:8080/"
        },
        "id": "QCKWq94ZTVo4",
        "outputId": "0286efea-91fe-4959-b7ef-a0af9355c301"
      },
      "execution_count": 10,
      "outputs": [
        {
          "output_type": "execute_result",
          "data": {
            "text/plain": [
              "tensor([[1.6248, 1.4092],\n",
              "        [0.6585, 0.2091]])"
            ]
          },
          "metadata": {},
          "execution_count": 10
        }
      ]
    },
    {
      "cell_type": "code",
      "source": [
        "# this also does the same work \n",
        "c = torch.add(a,b)\n",
        "c"
      ],
      "metadata": {
        "colab": {
          "base_uri": "https://localhost:8080/"
        },
        "id": "iyhJOMkzTaT4",
        "outputId": "3cab9d11-bae9-43b8-de32-b15359c8c6f2"
      },
      "execution_count": 11,
      "outputs": [
        {
          "output_type": "execute_result",
          "data": {
            "text/plain": [
              "tensor([[1.6248, 1.4092],\n",
              "        [0.6585, 0.2091]])"
            ]
          },
          "metadata": {},
          "execution_count": 11
        }
      ]
    },
    {
      "cell_type": "code",
      "source": [
        "# if want to add all of the elements of 'a' to 'b', we can do the following and it will be an inplace operation and it will modifey the variable applied on:\n",
        "b.add_(a)"
      ],
      "metadata": {
        "colab": {
          "base_uri": "https://localhost:8080/"
        },
        "id": "j1OWpcxTUI4M",
        "outputId": "09a77b8c-a3d2-47a3-c0ec-155d6506da8c"
      },
      "execution_count": 12,
      "outputs": [
        {
          "output_type": "execute_result",
          "data": {
            "text/plain": [
              "tensor([[1.6248, 1.4092],\n",
              "        [0.6585, 0.2091]])"
            ]
          },
          "metadata": {},
          "execution_count": 12
        }
      ]
    },
    {
      "cell_type": "code",
      "source": [
        "# let us see how to do a subtraction in pytorch: \n",
        "a, b \n",
        "\n",
        "# these two methods, do the same thing: \n",
        "e = a - b\n",
        "e"
      ],
      "metadata": {
        "colab": {
          "base_uri": "https://localhost:8080/"
        },
        "id": "G88LvUHmU7xT",
        "outputId": "268ac850-173b-4e0a-96b1-0709fa28f06d"
      },
      "execution_count": 13,
      "outputs": [
        {
          "output_type": "execute_result",
          "data": {
            "text/plain": [
              "tensor([[-0.9075, -0.8981],\n",
              "        [-0.1953, -0.1522]])"
            ]
          },
          "metadata": {},
          "execution_count": 13
        }
      ]
    },
    {
      "cell_type": "code",
      "source": [
        "e = torch.sub(a,b)\n",
        "e"
      ],
      "metadata": {
        "colab": {
          "base_uri": "https://localhost:8080/"
        },
        "id": "AyUzyK5BVZU2",
        "outputId": "ad53689b-b9fc-407d-b162-b9ab3c1b7fb0"
      },
      "execution_count": 14,
      "outputs": [
        {
          "output_type": "execute_result",
          "data": {
            "text/plain": [
              "tensor([[-0.9075, -0.8981],\n",
              "        [-0.1953, -0.1522]])"
            ]
          },
          "metadata": {},
          "execution_count": 14
        }
      ]
    },
    {
      "cell_type": "code",
      "source": [
        "# we can also multiply the tensors: \n",
        "f = a * b\n",
        "f"
      ],
      "metadata": {
        "colab": {
          "base_uri": "https://localhost:8080/"
        },
        "id": "HrR63vBwVo9L",
        "outputId": "9d93ecbd-61dd-4890-dd8c-37104bbdf738"
      },
      "execution_count": 15,
      "outputs": [
        {
          "output_type": "execute_result",
          "data": {
            "text/plain": [
              "tensor([[1.1654, 0.7202],\n",
              "        [0.3051, 0.0119]])"
            ]
          },
          "metadata": {},
          "execution_count": 15
        }
      ]
    },
    {
      "cell_type": "code",
      "source": [
        "f = torch.mul(a,b)\n",
        "f"
      ],
      "metadata": {
        "colab": {
          "base_uri": "https://localhost:8080/"
        },
        "id": "6Lo-wzXzV4Yd",
        "outputId": "291dfabc-d8ea-482e-93f4-965f5f162fc5"
      },
      "execution_count": 16,
      "outputs": [
        {
          "output_type": "execute_result",
          "data": {
            "text/plain": [
              "tensor([[1.1654, 0.7202],\n",
              "        [0.3051, 0.0119]])"
            ]
          },
          "metadata": {},
          "execution_count": 16
        }
      ]
    },
    {
      "cell_type": "code",
      "source": [
        "# we can do everything in place by saying:\n",
        "a.mul_(b) # this will modify a"
      ],
      "metadata": {
        "colab": {
          "base_uri": "https://localhost:8080/"
        },
        "id": "YVNJIzvMV-3k",
        "outputId": "a857db1c-2c3f-4116-a65d-b522fe9d5457"
      },
      "execution_count": 17,
      "outputs": [
        {
          "output_type": "execute_result",
          "data": {
            "text/plain": [
              "tensor([[1.1654, 0.7202],\n",
              "        [0.3051, 0.0119]])"
            ]
          },
          "metadata": {},
          "execution_count": 17
        }
      ]
    },
    {
      "cell_type": "code",
      "source": [
        "a # as we can see, values in a are different from the original a tensor now. "
      ],
      "metadata": {
        "colab": {
          "base_uri": "https://localhost:8080/"
        },
        "id": "LbZxdLG6WX-y",
        "outputId": "6b813a26-a5d9-4c9d-9cad-a08680d32879"
      },
      "execution_count": 18,
      "outputs": [
        {
          "output_type": "execute_result",
          "data": {
            "text/plain": [
              "tensor([[1.1654, 0.7202],\n",
              "        [0.3051, 0.0119]])"
            ]
          },
          "metadata": {},
          "execution_count": 18
        }
      ]
    },
    {
      "cell_type": "code",
      "source": [
        "# Slicing: \n",
        "g = torch.rand(5,3)\n",
        "g"
      ],
      "metadata": {
        "colab": {
          "base_uri": "https://localhost:8080/"
        },
        "id": "BPym2x96WZk3",
        "outputId": "0b4ba72a-9d82-45d9-8c29-3f1501d206b0"
      },
      "execution_count": 19,
      "outputs": [
        {
          "output_type": "execute_result",
          "data": {
            "text/plain": [
              "tensor([[0.7994, 0.9381, 0.1368],\n",
              "        [0.9665, 0.7998, 0.9519],\n",
              "        [0.0065, 0.3425, 0.5511],\n",
              "        [0.6129, 0.0372, 0.2028],\n",
              "        [0.5103, 0.7803, 0.7402]])"
            ]
          },
          "metadata": {},
          "execution_count": 19
        }
      ]
    },
    {
      "cell_type": "code",
      "source": [
        "# we wanna have the first column of every row: \n",
        "g[:, 0]"
      ],
      "metadata": {
        "colab": {
          "base_uri": "https://localhost:8080/"
        },
        "id": "WG3DVudpXAQE",
        "outputId": "014b1fa6-cc88-4c39-bc8d-a69d6a11971f"
      },
      "execution_count": 20,
      "outputs": [
        {
          "output_type": "execute_result",
          "data": {
            "text/plain": [
              "tensor([0.7994, 0.9665, 0.0065, 0.6129, 0.5103])"
            ]
          },
          "metadata": {},
          "execution_count": 20
        }
      ]
    },
    {
      "cell_type": "code",
      "source": [
        "# if we wanna have, every elements of third row:\n",
        "g[2]"
      ],
      "metadata": {
        "colab": {
          "base_uri": "https://localhost:8080/"
        },
        "id": "HJhi2SalXiiB",
        "outputId": "42d6fc35-1f07-4d1e-db97-91cc5d45dedf"
      },
      "execution_count": 21,
      "outputs": [
        {
          "output_type": "execute_result",
          "data": {
            "text/plain": [
              "tensor([0.0065, 0.3425, 0.5511])"
            ]
          },
          "metadata": {},
          "execution_count": 21
        }
      ]
    },
    {
      "cell_type": "code",
      "source": [
        "# if I want to get, one specific value within the list: \n",
        "# this is the last element, we can also get it by saying invoking [-1,-1]\n",
        "g[4,2], g[-1, -1] # if we type only g[-1], Python will give us every elements of last row. "
      ],
      "metadata": {
        "colab": {
          "base_uri": "https://localhost:8080/"
        },
        "id": "vJu0iEkoX0v6",
        "outputId": "dba609f5-63c1-45f0-b3f8-0de2f652a37e"
      },
      "execution_count": 22,
      "outputs": [
        {
          "output_type": "execute_result",
          "data": {
            "text/plain": [
              "(tensor(0.7402), tensor(0.7402))"
            ]
          },
          "metadata": {},
          "execution_count": 22
        }
      ]
    },
    {
      "cell_type": "code",
      "source": [
        "# if we slice only one element of the tenor and wonder its actual value, we can use item() function: \n",
        "g[2,2].item() # in tensors, it only shows 0.0965"
      ],
      "metadata": {
        "colab": {
          "base_uri": "https://localhost:8080/"
        },
        "id": "rVM7RkxzYJbA",
        "outputId": "d5399930-2b42-4a49-9d0e-18046fceec4f"
      },
      "execution_count": 23,
      "outputs": [
        {
          "output_type": "execute_result",
          "data": {
            "text/plain": [
              "0.5510887503623962"
            ]
          },
          "metadata": {},
          "execution_count": 23
        }
      ]
    },
    {
      "cell_type": "code",
      "source": [
        "# Now, let us see how to reshape a tensor: \n",
        "\n",
        "h = torch.rand(4,4)\n",
        "h"
      ],
      "metadata": {
        "colab": {
          "base_uri": "https://localhost:8080/"
        },
        "id": "LLCpwdxaZK9i",
        "outputId": "b1a54987-a423-48ac-acda-f811761d4d22"
      },
      "execution_count": 24,
      "outputs": [
        {
          "output_type": "execute_result",
          "data": {
            "text/plain": [
              "tensor([[0.6515, 0.6955, 0.2727, 0.4582],\n",
              "        [0.5520, 0.0824, 0.4738, 0.5467],\n",
              "        [0.4199, 0.3467, 0.5222, 0.8081],\n",
              "        [0.4319, 0.6393, 0.3870, 0.9155]])"
            ]
          },
          "metadata": {},
          "execution_count": 24
        }
      ]
    },
    {
      "cell_type": "code",
      "source": [
        "# if we wanna see it, in only one line/vector we can use view() function: \n",
        "k = h.view(16)\n",
        "k"
      ],
      "metadata": {
        "colab": {
          "base_uri": "https://localhost:8080/"
        },
        "id": "AkQcCH5lZhU4",
        "outputId": "60e7d189-f145-4555-a04a-92b07d18f752"
      },
      "execution_count": 25,
      "outputs": [
        {
          "output_type": "execute_result",
          "data": {
            "text/plain": [
              "tensor([0.6515, 0.6955, 0.2727, 0.4582, 0.5520, 0.0824, 0.4738, 0.5467, 0.4199,\n",
              "        0.3467, 0.5222, 0.8081, 0.4319, 0.6393, 0.3870, 0.9155])"
            ]
          },
          "metadata": {},
          "execution_count": 25
        }
      ]
    },
    {
      "cell_type": "code",
      "source": [
        "# if we do not want to put it into one dimention, we can basically type view(-1, any number), then python will anaylze it and give us the reshaped tensor:\n",
        "l = h.view(-1, 8)\n",
        "l # as we can see, it is 2x8 now. \n",
        "l, l.size()"
      ],
      "metadata": {
        "colab": {
          "base_uri": "https://localhost:8080/"
        },
        "id": "mPDG_eqdZ_CC",
        "outputId": "2ab2d35c-0c2f-41fb-cba0-5c5cc8bed64f"
      },
      "execution_count": 26,
      "outputs": [
        {
          "output_type": "execute_result",
          "data": {
            "text/plain": [
              "(tensor([[0.6515, 0.6955, 0.2727, 0.4582, 0.5520, 0.0824, 0.4738, 0.5467],\n",
              "         [0.4199, 0.3467, 0.5222, 0.8081, 0.4319, 0.6393, 0.3870, 0.9155]]),\n",
              " torch.Size([2, 8]))"
            ]
          },
          "metadata": {},
          "execution_count": 26
        }
      ]
    },
    {
      "cell_type": "code",
      "source": [
        "# Converging from Numpy to Tensor and vice verca: \n",
        "import numpy as np "
      ],
      "metadata": {
        "id": "jHA2VoB2bAhp"
      },
      "execution_count": 27,
      "outputs": []
    },
    {
      "cell_type": "code",
      "source": [
        "m = torch.ones(5)\n",
        "m # it is a tensor now!"
      ],
      "metadata": {
        "colab": {
          "base_uri": "https://localhost:8080/"
        },
        "id": "6yYa3r3TbPKA",
        "outputId": "3b3915ad-f8c1-4280-c366-8db1f24bb44b"
      },
      "execution_count": 28,
      "outputs": [
        {
          "output_type": "execute_result",
          "data": {
            "text/plain": [
              "tensor([1., 1., 1., 1., 1.])"
            ]
          },
          "metadata": {},
          "execution_count": 28
        }
      ]
    },
    {
      "cell_type": "code",
      "source": [
        "n = m.numpy()\n",
        "n, type(n) \n",
        "\n",
        "# as we can see, it changed to numpy ndarray now!"
      ],
      "metadata": {
        "colab": {
          "base_uri": "https://localhost:8080/"
        },
        "id": "1n7z3uUsbPMo",
        "outputId": "49dc55dc-76f7-4e7b-8bf9-b057f8d41023"
      },
      "execution_count": 29,
      "outputs": [
        {
          "output_type": "execute_result",
          "data": {
            "text/plain": [
              "(array([1., 1., 1., 1., 1.], dtype=float32), numpy.ndarray)"
            ]
          },
          "metadata": {},
          "execution_count": 29
        }
      ]
    },
    {
      "cell_type": "code",
      "source": [
        "# Vice versa:\n",
        "c = np.ones(6)\n",
        "c, type(c)"
      ],
      "metadata": {
        "colab": {
          "base_uri": "https://localhost:8080/"
        },
        "id": "Z0ZYGYWcbPPO",
        "outputId": "e0312eb3-c860-47a8-9e8e-d33409be59cd"
      },
      "execution_count": 30,
      "outputs": [
        {
          "output_type": "execute_result",
          "data": {
            "text/plain": [
              "(array([1., 1., 1., 1., 1., 1.]), numpy.ndarray)"
            ]
          },
          "metadata": {},
          "execution_count": 30
        }
      ]
    },
    {
      "cell_type": "code",
      "source": [
        "v = torch.from_numpy(c) # we can specify the data types if it is necessary\n",
        "v, type(v)"
      ],
      "metadata": {
        "colab": {
          "base_uri": "https://localhost:8080/"
        },
        "id": "HKcKIPGhbPR8",
        "outputId": "e84d17cc-7dd0-4059-bf13-ac05a3b83d10"
      },
      "execution_count": 31,
      "outputs": [
        {
          "output_type": "execute_result",
          "data": {
            "text/plain": [
              "(tensor([1., 1., 1., 1., 1., 1.], dtype=torch.float64), torch.Tensor)"
            ]
          },
          "metadata": {},
          "execution_count": 31
        }
      ]
    },
    {
      "cell_type": "code",
      "source": [
        "# We have to be careful about one thing that, since both numpy and tensor is using the same memory location, if we modify one of them the other will \n",
        "# also be modified automatically. \n",
        "c += 1 # every time I run this, it will add 1 \n",
        "c "
      ],
      "metadata": {
        "colab": {
          "base_uri": "https://localhost:8080/"
        },
        "id": "sxcAe3DRbPUP",
        "outputId": "5d0b0166-1409-4711-d232-37f592014191"
      },
      "execution_count": 32,
      "outputs": [
        {
          "output_type": "execute_result",
          "data": {
            "text/plain": [
              "array([2., 2., 2., 2., 2., 2.])"
            ]
          },
          "metadata": {},
          "execution_count": 32
        }
      ]
    },
    {
      "cell_type": "code",
      "source": [
        "v # as it is clear, the tensor got also modified!"
      ],
      "metadata": {
        "colab": {
          "base_uri": "https://localhost:8080/"
        },
        "id": "VSBrTOwGbPWq",
        "outputId": "0f34b975-7bfb-4f6f-b5b9-4dd7c5fe214a"
      },
      "execution_count": 33,
      "outputs": [
        {
          "output_type": "execute_result",
          "data": {
            "text/plain": [
              "tensor([2., 2., 2., 2., 2., 2.], dtype=torch.float64)"
            ]
          },
          "metadata": {},
          "execution_count": 33
        }
      ]
    },
    {
      "cell_type": "code",
      "source": [
        "torch.cuda.is_available()"
      ],
      "metadata": {
        "colab": {
          "base_uri": "https://localhost:8080/"
        },
        "id": "IU6HDyund1tl",
        "outputId": "7449c9f3-f33d-4bb3-c4d7-1d0ded8586a9"
      },
      "execution_count": 34,
      "outputs": [
        {
          "output_type": "execute_result",
          "data": {
            "text/plain": [
              "True"
            ]
          },
          "metadata": {},
          "execution_count": 34
        }
      ]
    },
    {
      "cell_type": "code",
      "source": [
        "# Running the codes on GPU is much faster!\n",
        "# If wanna change GPU to CPU or vice versa, we cab us .cuda() and .cpu() functions , for example: \n",
        "torch.cuda.is_available() # now it is one GPU. \n",
        "\n",
        "j = torch.ones(9)\n",
        "t = j.cpu()\n",
        "print(\"t device is:\", t.device)"
      ],
      "metadata": {
        "colab": {
          "base_uri": "https://localhost:8080/"
        },
        "id": "paDh_mDmeLz1",
        "outputId": "924257c0-f352-491a-9b20-7e130a998326"
      },
      "execution_count": 45,
      "outputs": [
        {
          "output_type": "stream",
          "name": "stdout",
          "text": [
            "t device is: cpu\n"
          ]
        }
      ]
    },
    {
      "cell_type": "code",
      "source": [
        "# As vice versa: \n",
        "t1 = j.cuda()\n",
        "print(\"t1 device is:\", t1.device)"
      ],
      "metadata": {
        "colab": {
          "base_uri": "https://localhost:8080/"
        },
        "id": "Qzns9DG6fBfk",
        "outputId": "b7e2248c-cca3-4db8-c710-489a605de2f7"
      },
      "execution_count": 48,
      "outputs": [
        {
          "output_type": "stream",
          "name": "stdout",
          "text": [
            "t1 device is: cuda:0\n"
          ]
        }
      ]
    },
    {
      "cell_type": "code",
      "source": [
        "## DONE ## "
      ],
      "metadata": {
        "id": "k6qljnQ2gn2B"
      },
      "execution_count": null,
      "outputs": []
    }
  ]
}